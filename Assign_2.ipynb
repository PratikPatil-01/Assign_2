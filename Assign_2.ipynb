{
 "cells": [
  {
   "cell_type": "markdown",
   "id": "36781b38-7127-4a58-af46-ad3127d32269",
   "metadata": {},
   "source": [
    "## 1)\n",
    "The keyword used to create a function in most programming languages is \"def\" (short for \"define\")"
   ]
  },
  {
   "cell_type": "code",
   "execution_count": 1,
   "id": "2c4f8bde-68d1-468b-9a66-73e5c7b87298",
   "metadata": {},
   "outputs": [],
   "source": [
    "def get_odd_numbers():\n",
    "    odd_numbers = []\n",
    "    for number in range(1, 26):\n",
    "        if number % 2 != 0:\n",
    "            odd_numbers.append(number)\n",
    "    return odd_numbers\n"
   ]
  },
  {
   "cell_type": "markdown",
   "id": "04f8a788-011c-46cc-9b74-6a5a8c9a9b92",
   "metadata": {},
   "source": [
    "## 2)\n",
    "he *args syntax allows you to pass a variable number of positional arguments to a function. It collects any number of positional arguments into a tuple within the function. This is useful when you want to define a function that can accept any number of arguments."
   ]
  },
  {
   "cell_type": "code",
   "execution_count": 3,
   "id": "064df916-992c-4f15-97f0-6c0f32822378",
   "metadata": {},
   "outputs": [
    {
     "name": "stdout",
     "output_type": "stream",
     "text": [
      "Hello World\n"
     ]
    }
   ],
   "source": [
    "def concatenate_strings(*args):\n",
    "    result = ''\n",
    "    for string in args:\n",
    "        result += string\n",
    "    return result\n",
    "\n",
    "# Calling the function\n",
    "print(concatenate_strings(\"Hello\", \" \", \"World\"))  # Output: \"Hello World\""
   ]
  },
  {
   "cell_type": "markdown",
   "id": "2c51c750-6b71-41af-b439-ad7b8671c660",
   "metadata": {},
   "source": [
    "The **kwargs syntax allows you to pass a variable number of keyword arguments to a function. It collects any number of keyword arguments into a dictionary within the function. This is useful when you want to define a function that can accept any number of keyword arguments."
   ]
  },
  {
   "cell_type": "code",
   "execution_count": 4,
   "id": "c1ca8ab4-9bce-4057-aa49-20f40c4d0f27",
   "metadata": {},
   "outputs": [
    {
     "name": "stdout",
     "output_type": "stream",
     "text": [
      "name: John\n",
      "age: 25\n",
      "city: New York\n"
     ]
    }
   ],
   "source": [
    "def print_info(**kwargs):\n",
    "    for key, value in kwargs.items():\n",
    "        print(key + \": \" + value)\n",
    "\n",
    "# Calling the function\n",
    "print_info(name=\"John\", age=\"25\", city=\"New York\")"
   ]
  },
  {
   "cell_type": "markdown",
   "id": "172fa406-45de-456e-ab60-47d6f8f530cb",
   "metadata": {},
   "source": [
    "## 3)\n",
    "In Python, an iterator is an object that allows you to iterate over a collection of elements, such as a list, tuple, or dictionary, one element at a time. It provides a way to access the elements sequentially without the need to know the internal structure of the collection.\n",
    "\n",
    "To initialize an iterator object in Python, you can use the iter() function. This function takes an iterable object as an argument and returns an iterator object.\n",
    "\n",
    "To iterate over the elements of an iterator, you can use the next() function. This function retrieves the next element from the iterator. When there are no more elements left, it raises a StopIteration exception."
   ]
  },
  {
   "cell_type": "code",
   "execution_count": 5,
   "id": "b3d95bd4-1d1d-40fd-88d8-d46e35abad40",
   "metadata": {},
   "outputs": [
    {
     "name": "stdout",
     "output_type": "stream",
     "text": [
      "2\n",
      "4\n",
      "6\n",
      "8\n",
      "10\n"
     ]
    }
   ],
   "source": [
    "my_list = [2, 4, 6, 8, 10, 12, 14, 16, 18, 20]\n",
    "my_iterator = iter(my_list)\n",
    "\n",
    "# Iterating and printing the first five elements\n",
    "for _ in range(5):\n",
    "    element = next(my_iterator)\n",
    "    print(element)"
   ]
  },
  {
   "cell_type": "code",
   "execution_count": null,
   "id": "4b196522-bbe7-4bd0-b184-b9298813fe9d",
   "metadata": {},
   "outputs": [],
   "source": []
  }
 ],
 "metadata": {
  "kernelspec": {
   "display_name": "Python 3 (ipykernel)",
   "language": "python",
   "name": "python3"
  },
  "language_info": {
   "codemirror_mode": {
    "name": "ipython",
    "version": 3
   },
   "file_extension": ".py",
   "mimetype": "text/x-python",
   "name": "python",
   "nbconvert_exporter": "python",
   "pygments_lexer": "ipython3",
   "version": "3.10.8"
  }
 },
 "nbformat": 4,
 "nbformat_minor": 5
}
