{
 "cells": [
  {
   "cell_type": "markdown",
   "id": "36781b38-7127-4a58-af46-ad3127d32269",
   "metadata": {},
   "source": [
    "1) \n",
    "The keyword used to create a function in most programming languages is \"def\" (short for \"define\")"
   ]
  },
  {
   "cell_type": "code",
   "execution_count": 1,
   "id": "2c4f8bde-68d1-468b-9a66-73e5c7b87298",
   "metadata": {},
   "outputs": [],
   "source": [
    "def get_odd_numbers():\n",
    "    odd_numbers = []\n",
    "    for number in range(1, 26):\n",
    "        if number % 2 != 0:\n",
    "            odd_numbers.append(number)\n",
    "    return odd_numbers\n"
   ]
  },
  {
   "cell_type": "code",
   "execution_count": null,
   "id": "bb9880d5-2865-403f-9a40-d6be2575b582",
   "metadata": {},
   "outputs": [],
   "source": []
  },
  {
   "cell_type": "markdown",
   "id": "04f8a788-011c-46cc-9b74-6a5a8c9a9b92",
   "metadata": {},
   "source": [
    "2) \n",
    "\n",
    "The *args syntax allows you to pass a variable number of positional arguments to a function. It collects any number of positional arguments into a tuple within the function. This is useful when you want to define a function that can accept any number of arguments.\n",
    "\n",
    "The **kwargs syntax allows you to pass a variable number of keyword arguments to a function. It collects any number of keyword arguments into a dictionary within the function. This is useful when you want to define a function that can accept any number of keyword arguments."
   ]
  },
  {
   "cell_type": "code",
   "execution_count": 3,
   "id": "064df916-992c-4f15-97f0-6c0f32822378",
   "metadata": {},
   "outputs": [
    {
     "name": "stdout",
     "output_type": "stream",
     "text": [
      "Hello World\n"
     ]
    }
   ],
   "source": [
    "def concatenate_strings(*args):\n",
    "    result = ''\n",
    "    for string in args:\n",
    "        result += string\n",
    "    return result\n",
    "\n",
    "# Calling the function\n",
    "print(concatenate_strings(\"Hello\", \" \", \"World\"))  # Output: \"Hello World\""
   ]
  },
  {
   "cell_type": "code",
   "execution_count": 4,
   "id": "c1ca8ab4-9bce-4057-aa49-20f40c4d0f27",
   "metadata": {},
   "outputs": [
    {
     "name": "stdout",
     "output_type": "stream",
     "text": [
      "name: John\n",
      "age: 25\n",
      "city: New York\n"
     ]
    }
   ],
   "source": [
    "def print_info(**kwargs):\n",
    "    for key, value in kwargs.items():\n",
    "        print(key + \": \" + value)\n",
    "\n",
    "# Calling the function\n",
    "print_info(name=\"John\", age=\"25\", city=\"New York\")"
   ]
  },
  {
   "cell_type": "code",
   "execution_count": null,
   "id": "da2b9882-7378-4b51-a3c3-9674b41053db",
   "metadata": {},
   "outputs": [],
   "source": []
  },
  {
   "cell_type": "markdown",
   "id": "172fa406-45de-456e-ab60-47d6f8f530cb",
   "metadata": {},
   "source": [
    "3) \n",
    "\n",
    "In Python, an iterator is an object that allows you to iterate over a collection of elements, such as a list, tuple, or dictionary, one element at a time. It provides a way to access the elements sequentially without the need to know the internal structure of the collection.\n",
    "\n",
    "To initialize an iterator object in Python, you can use the iter() function. This function takes an iterable object as an argument and returns an iterator object.\n",
    "\n",
    "To iterate over the elements of an iterator, you can use the next() function. This function retrieves the next element from the iterator. When there are no more elements left, it raises a StopIteration exception."
   ]
  },
  {
   "cell_type": "code",
   "execution_count": 5,
   "id": "b3d95bd4-1d1d-40fd-88d8-d46e35abad40",
   "metadata": {},
   "outputs": [
    {
     "name": "stdout",
     "output_type": "stream",
     "text": [
      "2\n",
      "4\n",
      "6\n",
      "8\n",
      "10\n"
     ]
    }
   ],
   "source": [
    "my_list = [2, 4, 6, 8, 10, 12, 14, 16, 18, 20]\n",
    "my_iterator = iter(my_list)\n",
    "\n",
    "# Iterating and printing the first five elements\n",
    "for _ in range(5):\n",
    "    element = next(my_iterator)\n",
    "    print(element)"
   ]
  },
  {
   "cell_type": "markdown",
   "id": "20d80c07-d95e-4ea0-8c1a-20867b3cd542",
   "metadata": {},
   "source": [
    "4) \n",
    "In Python, a generator function is a special type of function that generates values on-the-fly using the yield keyword. Instead of returning a single value with the return keyword, a generator function can yield multiple values, one at a time, each time it's called. This allows for efficient memory usage and lazy evaluation, as the values are generated only when needed."
   ]
  },
  {
   "cell_type": "code",
   "execution_count": 1,
   "id": "10606bc6-33f2-4f27-83fd-d2d246b2331f",
   "metadata": {},
   "outputs": [
    {
     "name": "stdout",
     "output_type": "stream",
     "text": [
      "0\n",
      "1\n",
      "1\n",
      "2\n",
      "3\n",
      "5\n",
      "8\n",
      "13\n",
      "21\n",
      "34\n"
     ]
    }
   ],
   "source": [
    "def fibonacci_generator():\n",
    "    a, b = 0, 1\n",
    "    while True:\n",
    "        yield a\n",
    "        a, b = b, a + b\n",
    "\n",
    "# Create a generator object\n",
    "fib_gen = fibonacci_generator()\n",
    "\n",
    "# Generate and print the first 10 Fibonacci numbers\n",
    "for _ in range(10):\n",
    "    print(next(fib_gen))"
   ]
  },
  {
   "cell_type": "code",
   "execution_count": null,
   "id": "67410612-bdde-4555-906a-945097324d3d",
   "metadata": {},
   "outputs": [],
   "source": []
  },
  {
   "cell_type": "markdown",
   "id": "9e876495-9a16-4ac0-a92d-8d375f729cc3",
   "metadata": {},
   "source": [
    "5) \n",
    "Generator function for prime numbers less than 1000. Use the next() method to print the\n",
    "first 20 prime numbers."
   ]
  },
  {
   "cell_type": "code",
   "execution_count": 2,
   "id": "f4cd947e-7065-4fd1-a0fa-b0212cc0d87f",
   "metadata": {},
   "outputs": [
    {
     "name": "stdout",
     "output_type": "stream",
     "text": [
      "2\n",
      "3\n",
      "5\n",
      "7\n",
      "11\n",
      "13\n",
      "17\n",
      "19\n",
      "23\n",
      "29\n",
      "31\n",
      "37\n",
      "41\n",
      "43\n",
      "47\n",
      "53\n",
      "59\n",
      "61\n",
      "67\n",
      "71\n"
     ]
    }
   ],
   "source": [
    "def prime_generator():\n",
    "    # Define a function to check if a number is prime\n",
    "    def is_prime(num):\n",
    "        if num < 2:\n",
    "            return False\n",
    "        for i in range(2, int(num ** 0.5) + 1):\n",
    "            if num % i == 0:\n",
    "                return False\n",
    "        return True\n",
    "\n",
    "    # Generate prime numbers less than 1000\n",
    "    for num in range(2, 1000):\n",
    "        if is_prime(num):\n",
    "            yield num\n",
    "\n",
    "# Create a generator object\n",
    "prime_gen = prime_generator()\n",
    "\n",
    "# Print the first 20 prime numbers using next() method\n",
    "for _ in range(20):\n",
    "    print(next(prime_gen))"
   ]
  },
  {
   "cell_type": "code",
   "execution_count": null,
   "id": "bc510480-1f2c-4879-a0cf-8b7990365c49",
   "metadata": {},
   "outputs": [],
   "source": []
  }
 ],
 "metadata": {
  "kernelspec": {
   "display_name": "Python 3 (ipykernel)",
   "language": "python",
   "name": "python3"
  },
  "language_info": {
   "codemirror_mode": {
    "name": "ipython",
    "version": 3
   },
   "file_extension": ".py",
   "mimetype": "text/x-python",
   "name": "python",
   "nbconvert_exporter": "python",
   "pygments_lexer": "ipython3",
   "version": "3.10.8"
  }
 },
 "nbformat": 4,
 "nbformat_minor": 5
}
